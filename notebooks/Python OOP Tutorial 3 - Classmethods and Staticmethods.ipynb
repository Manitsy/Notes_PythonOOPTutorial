{
 "cells": [
  {
   "cell_type": "markdown",
   "metadata": {},
   "source": [
    "# Python OOP Tutorial 3 - Classmethods and Staticmethods\n",
    "\n",
    "[(video link)](https://youtu.be/rq8cL2XMM5M) | [(original code)](https://github.com/CoreyMSchafer/code_snippets/tree/master/Object-Oriented/3-Class-Static-Methods) | [(transcript)](https://github.com/faizankshaikh/Notes_PythonOOPTutorial/blob/master/transcripts/classmethods_and_staticmethods.txt)\n",
    "\n",
    "---"
   ]
  },
  {
   "cell_type": "markdown",
   "metadata": {},
   "source": [
    "# Table of Contents\n",
    "\n",
    "### 3.1 What is classmethod?\n",
    "### 3.2 Use case - Set employees raise amount using classmethod\n",
    "### 3.3 Using classmethods as alternative constructors\n",
    "### 3.4 Real world example of classmethod\n",
    "### 3.5 What is staticmethod?\n",
    "### 3.6 Use case - Whether or not a date is a work day\n",
    "\n",
    "---"
   ]
  },
  {
   "cell_type": "markdown",
   "metadata": {},
   "source": [
    "## 3.1 What is classmethod?"
   ]
  },
  {
   "cell_type": "markdown",
   "metadata": {},
   "source": [
    "Instead of a method taking self (which is an instance) as the first argument, how can we change this so that the method instead takes class as the first argument? We use classmethod for this.\n",
    "\n",
    "To change a regular method to class method, add a decorator to the top called @classmethod"
   ]
  },
  {
   "cell_type": "markdown",
   "metadata": {},
   "source": [
    "## 3.2 Use case - Set employees raise amount using classmethod"
   ]
  },
  {
   "cell_type": "code",
   "execution_count": 1,
   "metadata": {},
   "outputs": [
    {
     "name": "stdout",
     "output_type": "stream",
     "text": [
      "1.04\n",
      "1.04\n",
      "1.04\n"
     ]
    }
   ],
   "source": [
    "class Employee:\n",
    "\n",
    "    num_of_emps = 0\n",
    "    raise_amount = 1.04\n",
    "\n",
    "    def __init__(self, first, last, pay):\n",
    "        self.first = first\n",
    "        self.last = last\n",
    "        self.pay = pay\n",
    "        self.email = first + \".\" + last + \"@company.com\"\n",
    "\n",
    "        Employee.num_of_emps += 1\n",
    "\n",
    "    def fullname(self):\n",
    "        return \"{} {}\".format(self.first, self.last)\n",
    "\n",
    "    def apply_raise(self):\n",
    "        self.pay = int(self.pay * self.raise_amount)\n",
    "\n",
    "    # create classmethod set_raise_amount using decorator @classmethod\n",
    "    @classmethod\n",
    "    def set_raise_amount(cls, amount):\n",
    "        cls.raise_amount = amount\n",
    "\n",
    "\n",
    "emp_1 = Employee(\"Corey\", \"Schafer\", 50000)\n",
    "emp_2 = Employee(\"Test\", \"User\", 60000)\n",
    "\n",
    "# print before calling class method set_raise_amount\n",
    "print(Employee.raise_amount)\n",
    "print(emp_1.raise_amount)\n",
    "print(emp_2.raise_amount)"
   ]
  },
  {
   "cell_type": "code",
   "execution_count": 2,
   "metadata": {},
   "outputs": [
    {
     "name": "stdout",
     "output_type": "stream",
     "text": [
      "1.05\n",
      "1.05\n",
      "1.05\n"
     ]
    }
   ],
   "source": [
    "# call the classmethod set_raise_amount\n",
    "Employee.set_raise_amount(1.05)\n",
    "\n",
    "# print after calling class method set_raise_amount\n",
    "print(Employee.raise_amount)\n",
    "print(emp_1.raise_amount)\n",
    "print(emp_2.raise_amount)"
   ]
  },
  {
   "cell_type": "markdown",
   "metadata": {},
   "source": [
    "*Note -*\n",
    "\n",
    "*1. To learn more about how decorators work, watch [this video](https://youtu.be/FsAPt_9Bf3U). Basically, it alters the functionality of our method which now recieved class as first argument instead of the instance*\n",
    "\n",
    "*2. By convention, we call this class as \"cls\". We can't use \"class\" here because it has a different meaning in Python (it is a keyword in python), i.e. it is used to create a new class*\n",
    "\n",
    "*3. Calling <code>Employee.set_raise_amount(1.05)</code> is same as doing <code>Employee.raise_amount = 1.05</code>. We can also do <code>emp_1.set_raise_amount(1.05)</code>, but that doesnt make a lot of sense and no one ever uses it*"
   ]
  },
  {
   "cell_type": "markdown",
   "metadata": {},
   "source": [
    "## 3.3 Using classmethods as alternative constructors"
   ]
  },
  {
   "cell_type": "markdown",
   "metadata": {},
   "source": [
    "We can also use class methods as alternative constructors, i.e. we can use the class methods in order to provide multiple ways of creating our objects. \n",
    "\n",
    "For example, if we have a specific usecase where we are getting employee information in the form of a string, and we have to create an employee from that"
   ]
  },
  {
   "cell_type": "code",
   "execution_count": 3,
   "metadata": {},
   "outputs": [
    {
     "name": "stdout",
     "output_type": "stream",
     "text": [
      "John.Doe@company.com\n",
      "70000\n"
     ]
    }
   ],
   "source": [
    "emp_str_1 = \"John-Doe-70000\"\n",
    "emp_str_2 = \"Steve-Smith-30000\"\n",
    "emp_str_3 = \"Jane-Doe-90000\"\n",
    "\n",
    "# split on hyphen\n",
    "first, last, pay = emp_str_1.split(\"-\")\n",
    "\n",
    "new_emp_1 = Employee(first, last, pay)\n",
    "\n",
    "print(new_emp_1.email)\n",
    "print(new_emp_1.pay)"
   ]
  },
  {
   "cell_type": "markdown",
   "metadata": {},
   "source": [
    "If this is a common use case, we don't want to parse these strings evey time they want to create a new employee. So let's create an alternative constructor that allows to pass in the string and we can create employee from that"
   ]
  },
  {
   "cell_type": "code",
   "execution_count": 4,
   "metadata": {},
   "outputs": [
    {
     "name": "stdout",
     "output_type": "stream",
     "text": [
      "John.Doe@company.com\n",
      "70000\n"
     ]
    }
   ],
   "source": [
    "class Employee:\n",
    "\n",
    "    num_of_emps = 0\n",
    "    raise_amount = 1.04\n",
    "\n",
    "    def __init__(self, first, last, pay):\n",
    "        self.first = first\n",
    "        self.last = last\n",
    "        self.pay = pay\n",
    "        self.email = first + \".\" + last + \"@company.com\"\n",
    "\n",
    "        Employee.num_of_emps += 1\n",
    "\n",
    "    def fullname(self):\n",
    "        return \"{} {}\".format(self.first, self.last)\n",
    "\n",
    "    def apply_raise(self):\n",
    "        self.pay = int(self.pay * self.raise_amount)\n",
    "\n",
    "    @classmethod\n",
    "    def set_raise_amount(cls, amount):\n",
    "        cls.raise_amount = amount\n",
    "\n",
    "    # create alternative constructor\n",
    "    @classmethod\n",
    "    def from_string(cls, emp_str):\n",
    "        # use emp_str argument that we passed in the classmethod\n",
    "        first, last, pay = emp_str.split(\"-\")\n",
    "        # use cls for accessing the class and return the instance created\n",
    "        return cls(first, last, pay)\n",
    "\n",
    "\n",
    "emp_str_1 = \"John-Doe-70000\"\n",
    "\n",
    "new_emp_1 = Employee.from_string(emp_str_1)\n",
    "\n",
    "print(new_emp_1.email)\n",
    "print(new_emp_1.pay)"
   ]
  },
  {
   "cell_type": "markdown",
   "metadata": {},
   "source": [
    "*Note - By convention, alternative constructors start with \"from\"*"
   ]
  },
  {
   "cell_type": "markdown",
   "metadata": {},
   "source": [
    "## 3.4 Real world example of classmethod"
   ]
  },
  {
   "cell_type": "markdown",
   "metadata": {},
   "source": [
    "A real world example is the datetime module (as we can see below)\n",
    "\n",
    "![](../images/datetime_classmethods.png)"
   ]
  },
  {
   "cell_type": "markdown",
   "metadata": {},
   "source": [
    "## 3.5 What is staticmethod?"
   ]
  },
  {
   "cell_type": "markdown",
   "metadata": {},
   "source": [
    "When working with classes, \n",
    "* Regular methods automatically pass the instance as the first argument (we call that self)\n",
    "* Class methods automatically pass the class as the first argument (we call that cls)\n",
    "* **Static methods dont pass in anything automatically**, i.e. they dont pass the instance or the class. So they behave like a regular function except that **we include them in our classes because they have some logical connection with the class**"
   ]
  },
  {
   "cell_type": "markdown",
   "metadata": {},
   "source": [
    "## 3.6 Use case - Whether or not a date is a work day"
   ]
  },
  {
   "cell_type": "markdown",
   "metadata": {},
   "source": [
    "Let's say that we wanted a simple function that would take in a date and return whether or not that was a workday. So this has a logical connection to our employee class but it doesn't actually depend on any specific instance or class variable "
   ]
  },
  {
   "cell_type": "code",
   "execution_count": 5,
   "metadata": {},
   "outputs": [
    {
     "name": "stdout",
     "output_type": "stream",
     "text": [
      "False\n"
     ]
    }
   ],
   "source": [
    "class Employee:\n",
    "\n",
    "    num_of_emps = 0\n",
    "    raise_amount = 1.04\n",
    "\n",
    "    def __init__(self, first, last, pay):\n",
    "        self.first = first\n",
    "        self.last = last\n",
    "        self.pay = pay\n",
    "        self.email = first + \".\" + last + \"@company.com\"\n",
    "\n",
    "        Employee.num_of_emps += 1\n",
    "\n",
    "    def fullname(self):\n",
    "        return \"{} {}\".format(self.first, self.last)\n",
    "\n",
    "    def apply_raise(self):\n",
    "        self.pay = int(self.pay * self.raise_amount)\n",
    "\n",
    "    @classmethod\n",
    "    def set_raise_amount(cls, amount):\n",
    "        cls.raise_amount = amount\n",
    "\n",
    "    @classmethod\n",
    "    def from_string(cls, emp_str):\n",
    "        first, last, pay = emp_str.split(\"-\")\n",
    "        return cls(first, last, pay)\n",
    "\n",
    "    # create staticmethod is_workday\n",
    "    # note that we dont have to pass in class or instance\n",
    "    @staticmethod\n",
    "    def is_workday(day):\n",
    "        if day.weekday() == 5 or day.weekday() == 6:\n",
    "            return False\n",
    "        return True\n",
    "\n",
    "\n",
    "emp_1 = Employee(\"Corey\", \"Schafer\", 50000)\n",
    "emp_2 = Employee(\"Test\", \"User\", 60000)\n",
    "\n",
    "# check if 10th is a weekday\n",
    "import datetime\n",
    "\n",
    "my_date = datetime.date(2016, 7, 10)\n",
    "\n",
    "print(Employee.is_workday(my_date))"
   ]
  },
  {
   "cell_type": "markdown",
   "metadata": {},
   "source": [
    "This prints False because its actually a Sunday"
   ]
  },
  {
   "cell_type": "code",
   "execution_count": 6,
   "metadata": {},
   "outputs": [
    {
     "name": "stdout",
     "output_type": "stream",
     "text": [
      "True\n"
     ]
    }
   ],
   "source": [
    "# instead of 10th, we check for 11th\n",
    "my_date = datetime.date(2016, 7, 11)\n",
    "\n",
    "print(Employee.is_workday(my_date))"
   ]
  },
  {
   "cell_type": "markdown",
   "metadata": {},
   "source": [
    "This prints True because its a Monday"
   ]
  },
  {
   "cell_type": "markdown",
   "metadata": {},
   "source": [
    "*Note -*\n",
    "\n",
    "*1. Python dates have weekday method where Monday is equal to zero and Sunday is equal to six and all the other days in between*\n",
    "\n",
    "*2. People write regular methods or class methods that actually should be static methods. Usually a giveaway that a method should be a static method is if we don't access the instance or the class anywhere within the function then it probably doesn't need to be a class method or a regular method. You probably want to check and see if it would be appropriate to use a static method that place*"
   ]
  },
  {
   "cell_type": "markdown",
   "metadata": {},
   "source": [
    "---"
   ]
  }
 ],
 "metadata": {
  "kernelspec": {
   "display_name": "Python 3",
   "language": "python",
   "name": "python3"
  },
  "language_info": {
   "codemirror_mode": {
    "name": "ipython",
    "version": 3
   },
   "file_extension": ".py",
   "mimetype": "text/x-python",
   "name": "python",
   "nbconvert_exporter": "python",
   "pygments_lexer": "ipython3",
   "version": "3.7.3"
  }
 },
 "nbformat": 4,
 "nbformat_minor": 2
}

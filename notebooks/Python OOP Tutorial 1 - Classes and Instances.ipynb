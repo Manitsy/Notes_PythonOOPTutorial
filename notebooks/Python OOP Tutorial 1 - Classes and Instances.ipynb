{
 "cells": [
  {
   "cell_type": "markdown",
   "metadata": {},
   "source": [
    "# Python OOP Tutorial 1 - Classes and Instances \n",
    "\n",
    "[(video link)](https://youtu.be/ZDa-Z5JzLYM) | [(original code)](https://github.com/CoreyMSchafer/code_snippets/tree/master/Object-Oriented/1-FirstClasses) | [(transcript)](../transcipts/classes_and_instances.txt)\n",
    "\n",
    "---"
   ]
  },
  {
   "cell_type": "markdown",
   "metadata": {},
   "source": [
    "# Table of Contents\n",
    "\n",
    "### 1.1 What is a class? \n",
    "### 1.2 Use Case - Represent employees of a Company\n",
    "### 1.3 Difference between Class and an Instance of a class\n",
    "### 1.4 Initialize class Attributes\n",
    "### 1.5 Adding methods to class\n",
    "\n",
    "---"
   ]
  },
  {
   "cell_type": "markdown",
   "metadata": {},
   "source": [
    "## 1.1 What is a class? "
   ]
  },
  {
   "cell_type": "markdown",
   "metadata": {},
   "source": [
    "Allow us to logically group our data and functions in a way that is easy to use and also easy to build upon if needed\n",
    "\n",
    "*Note - terms associated with a specific class*\n",
    "* *data => attributes*\n",
    "* *functions => methods*"
   ]
  },
  {
   "cell_type": "markdown",
   "metadata": {},
   "source": [
    "## 1.2 Use Case - Represent employees of a Company"
   ]
  },
  {
   "cell_type": "markdown",
   "metadata": {},
   "source": [
    "This is a great usecase for class, because each employee would have specific attributes and methods. \n",
    "\n",
    "Each employee would have\n",
    "* Name\n",
    "* Email Address\n",
    "* Pay\n",
    "* and actions they can perform\n",
    "\n",
    "Class can be used as a blueprint to create each employee so that we dont have to do this manually each time from scratch.\n",
    "\n",
    "To create a class -"
   ]
  },
  {
   "cell_type": "code",
   "execution_count": 1,
   "metadata": {},
   "outputs": [],
   "source": [
    "class Employee:\n",
    "    pass"
   ]
  },
  {
   "cell_type": "markdown",
   "metadata": {},
   "source": [
    "*Note - if you ever have a class or a function that you want to leave empty for the time being then you can simply put pass and python will know that you just want to skip that for now*"
   ]
  },
  {
   "cell_type": "markdown",
   "metadata": {},
   "source": [
    "## 1.3 Difference between Class and an Instance of a class"
   ]
  },
  {
   "cell_type": "markdown",
   "metadata": {},
   "source": [
    "Class is a blueprint for creating instances. For example, each unique employee that we create using our  Employee class will be an instance of that class"
   ]
  },
  {
   "cell_type": "code",
   "execution_count": 2,
   "metadata": {},
   "outputs": [],
   "source": [
    "# create class Employee\n",
    "class Employee:\n",
    "    pass\n",
    "\n",
    "\n",
    "# create emp_1 and emp2 which are instances of class Employee\n",
    "emp_1 = Employee()\n",
    "emp_2 = Employee()"
   ]
  },
  {
   "cell_type": "code",
   "execution_count": 3,
   "metadata": {},
   "outputs": [
    {
     "name": "stdout",
     "output_type": "stream",
     "text": [
      "<__main__.Employee object at 0x7fbed42945f8>\n",
      "<__main__.Employee object at 0x7fbed4294630>\n"
     ]
    }
   ],
   "source": [
    "print(emp_1)\n",
    "print(emp_2)"
   ]
  },
  {
   "cell_type": "markdown",
   "metadata": {},
   "source": [
    "*Note - Both emp_1 and emp_2 are employee objects, and they are both unique and they both have different locations in memory*"
   ]
  },
  {
   "cell_type": "markdown",
   "metadata": {},
   "source": [
    "## 1.4 Initialize class Attributes"
   ]
  },
  {
   "cell_type": "markdown",
   "metadata": {},
   "source": [
    "Instance variable - contain data that is unique to each instance. \n",
    "\n",
    "One way of doing this is -"
   ]
  },
  {
   "cell_type": "code",
   "execution_count": 4,
   "metadata": {},
   "outputs": [
    {
     "name": "stdout",
     "output_type": "stream",
     "text": [
      "Corey.Schafer@company.com\n",
      "Test.User@company.com\n"
     ]
    }
   ],
   "source": [
    "# create class Employee\n",
    "class Employee:\n",
    "    pass\n",
    "\n",
    "\n",
    "# create emp_1 and emp2 which are instances of class Employee\n",
    "emp_1 = Employee()\n",
    "emp_2 = Employee()\n",
    "\n",
    "# print(emp_1)\n",
    "# print(emp_2)\n",
    "\n",
    "emp_1.first = \"Corey\"\n",
    "emp_1.last = \"Schafer\"\n",
    "emp_1.email = \"Corey.Schafer@company.com\"\n",
    "emp_1.pay = 50000\n",
    "\n",
    "emp_2.first = \"Test\"\n",
    "emp_2.last = \"User\"\n",
    "emp_2.email = \"Test.User@company.com\"\n",
    "emp_2.pay = 60000\n",
    "\n",
    "print(emp_1.email)\n",
    "print(emp_2.email)"
   ]
  },
  {
   "cell_type": "markdown",
   "metadata": {},
   "source": [
    "We wouldnt want to manually set these variables everytime, and its also prone to mistakes, i.e. we dont get the benefit of using classes.\n",
    "\n",
    "So to make these setup automatically when we create Emloyee, we can use special \"init\" method -"
   ]
  },
  {
   "cell_type": "code",
   "execution_count": 5,
   "metadata": {},
   "outputs": [
    {
     "name": "stdout",
     "output_type": "stream",
     "text": [
      "Corey.Schafer@company.com\n",
      "Test.User@company.com\n"
     ]
    }
   ],
   "source": [
    "class Employee:\n",
    "    # In init method, after self, we can specify what\n",
    "    # other arguments we want to accept\n",
    "    def __init__(self, first, last, pay):\n",
    "        self.first = first\n",
    "        self.last = last\n",
    "        self.pay = pay\n",
    "        # can be created using 'first' and 'last' arguments\n",
    "        self.email = first + \".\" + last + \"@company.com\"\n",
    "\n",
    "\n",
    "# pass in values specified in our init method in correct order\n",
    "# self gets passed automaticaly\n",
    "emp_1 = Employee(\"Corey\", \"Schafer\", 50000)\n",
    "emp_2 = Employee(\"Test\", \"User\", 60000)\n",
    "\n",
    "print(emp_1.email)\n",
    "print(emp_2.email)"
   ]
  },
  {
   "cell_type": "markdown",
   "metadata": {},
   "source": [
    "*Note -*\n",
    "\n",
    "* *init method can be thought of as a constructor*\n",
    "* *When we create methods within a class, they recieve the instance as the first argument automatically*\n",
    "* *By convention,* \n",
    "    * *we should call the instance as self*\n",
    "    * *and make our arguments the same as our instance variables*\n",
    "* *Reduces manual assignments and gets rid of a lot of code*"
   ]
  },
  {
   "cell_type": "markdown",
   "metadata": {},
   "source": [
    "When we run <code>emp_1 = Employee(\"Corey\", \"Schafer\", 50000)</code>, init method will run automatically\n",
    "* \"emp_1\" will be passed as self\n",
    "* \"rest of the arguments will be set in their corresponding attributes\""
   ]
  },
  {
   "cell_type": "markdown",
   "metadata": {},
   "source": [
    "## 1.5 Adding methods to class"
   ]
  },
  {
   "cell_type": "markdown",
   "metadata": {},
   "source": [
    "We want an ability to display the full name of an employee.\n",
    "\n",
    "It can be done manually like this -"
   ]
  },
  {
   "cell_type": "code",
   "execution_count": 6,
   "metadata": {},
   "outputs": [
    {
     "name": "stdout",
     "output_type": "stream",
     "text": [
      "Corey Schafer\n"
     ]
    }
   ],
   "source": [
    "print(\"{} {}\".format(emp_1.first, emp_1.last))"
   ]
  },
  {
   "cell_type": "markdown",
   "metadata": {},
   "source": [
    "This is a lot to type for each time you want to display the employee's full nama. Instead, we can create a method within our class that allows us to put this functionality in one place"
   ]
  },
  {
   "cell_type": "code",
   "execution_count": 7,
   "metadata": {},
   "outputs": [
    {
     "name": "stdout",
     "output_type": "stream",
     "text": [
      "Corey Schafer\n"
     ]
    }
   ],
   "source": [
    "class Employee:\n",
    "    def __init__(self, first, last, pay):\n",
    "        self.first = first\n",
    "        self.last = last\n",
    "        self.pay = pay\n",
    "        self.email = first + \".\" + last + \"@company.com\"\n",
    "\n",
    "    # each method within a class automatically\n",
    "    # takes the instance as first argument\n",
    "    def fullname(self):\n",
    "        # instead of using specific instance variable,\n",
    "        # we use self so that it works for all instances\n",
    "        return \"{} {}\".format(self.first, self.last)\n",
    "\n",
    "\n",
    "emp_1 = Employee(\"Corey\", \"Schafer\", 50000)\n",
    "emp_2 = Employee(\"Test\", \"User\", 60000)\n",
    "\n",
    "# print(emp_1.email)\n",
    "# print(emp_2.email)\n",
    "\n",
    "# we need paranthesis here because this is a method\n",
    "# instead of an attribute\n",
    "print(emp_1.fullname())"
   ]
  },
  {
   "cell_type": "markdown",
   "metadata": {},
   "source": [
    "*Note - if we do not use paranthesis when calling a method, it returns the method instead of the return value of the method*"
   ]
  },
  {
   "cell_type": "code",
   "execution_count": 8,
   "metadata": {},
   "outputs": [
    {
     "name": "stdout",
     "output_type": "stream",
     "text": [
      "<bound method Employee.fullname of <__main__.Employee object at 0x7fbed42a9b00>>\n"
     ]
    }
   ],
   "source": [
    "print(emp_1.fullname)"
   ]
  },
  {
   "cell_type": "markdown",
   "metadata": {},
   "source": [
    "To print employee 2's full name -"
   ]
  },
  {
   "cell_type": "code",
   "execution_count": 9,
   "metadata": {},
   "outputs": [
    {
     "name": "stdout",
     "output_type": "stream",
     "text": [
      "Test User\n"
     ]
    }
   ],
   "source": [
    "print(emp_2.fullname())"
   ]
  },
  {
   "cell_type": "markdown",
   "metadata": {},
   "source": [
    "*Note -*\n",
    "\n",
    "*1. One common mistake when creating methods is forgetting the self argument for the instance*\n",
    "\n",
    "<code>def fullname():\n",
    "    return '{} {}'.format(self.first, self.last)\n",
    "</code>\n",
    "\n",
    "*If the method is not called, and has a missing self argument, it wont give any errors. But if the method is called, it will give \"TypeError\"*\n",
    "\n",
    "<pre>\n",
    "TypeError                                 Traceback (most recent call last)\n",
    "< ipython-input-10-2f54fa7adc99 > in < module >\n",
    "     13 emp_2 = Employee(\"Test\", \"User\", 60000)\n",
    "     14 \n",
    "---> 15 print(emp_1.fullname())\n",
    "\n",
    "TypeError: fullname() takes 0 positional arguments but 1 was given\n",
    "</pre>\n",
    "\n",
    "*So we have to expect the instance argument in our method, and that is why we added self*"
   ]
  },
  {
   "cell_type": "markdown",
   "metadata": {},
   "source": [
    "*2. We can also run the methods using the class name itself, but we have to pass in the instance as an argument manually*"
   ]
  },
  {
   "cell_type": "code",
   "execution_count": 10,
   "metadata": {},
   "outputs": [
    {
     "name": "stdout",
     "output_type": "stream",
     "text": [
      "Corey Schafer\n"
     ]
    }
   ],
   "source": [
    "print(Employee.fullname(emp_1))"
   ]
  },
  {
   "cell_type": "markdown",
   "metadata": {},
   "source": [
    "*That's actually what is going on in the background when we run <code>emp_1.fullname()</code>, where emp_1 gets passed in as self*"
   ]
  },
  {
   "cell_type": "markdown",
   "metadata": {},
   "source": [
    "---"
   ]
  }
 ],
 "metadata": {
  "kernelspec": {
   "display_name": "Python 3",
   "language": "python",
   "name": "python3"
  },
  "language_info": {
   "codemirror_mode": {
    "name": "ipython",
    "version": 3
   },
   "file_extension": ".py",
   "mimetype": "text/x-python",
   "name": "python",
   "nbconvert_exporter": "python",
   "pygments_lexer": "ipython3",
   "version": "3.7.3"
  }
 },
 "nbformat": 4,
 "nbformat_minor": 2
}

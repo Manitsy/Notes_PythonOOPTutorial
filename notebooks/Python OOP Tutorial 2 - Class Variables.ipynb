{
 "cells": [
  {
   "cell_type": "markdown",
   "metadata": {},
   "source": [
    "# Python OOP Tutorial 2 - Class Variables\n",
    "\n",
    "[(video link)](https://youtu.be/BJ-VvGyQxho) | [(original code)](https://github.com/CoreyMSchafer/code_snippets/tree/master/Object-Oriented/2-Class-Instance-Variables) | [(transcript)](https://github.com/faizankshaikh/Notes_PythonOOPTutorial/blob/master/transcripts/class_variables.txt)\n",
    "\n",
    "---"
   ]
  },
  {
   "cell_type": "markdown",
   "metadata": {},
   "source": [
    "# Table of Contents\n",
    "\n",
    "### 2.1 What is a Class variable?\n",
    "### 2.2 Use Case - Amount of annual raise given to employees\n",
    "### 2.3 Accessing class variables\n",
    "### 2.4 Setting class variables\n",
    "\n",
    "---"
   ]
  },
  {
   "cell_type": "markdown",
   "metadata": {},
   "source": [
    "## 2.1 What is a Class variable?"
   ]
  },
  {
   "cell_type": "markdown",
   "metadata": {},
   "source": [
    "Class variables are the variables that are shared between all instances of a class. Unlike instance variables, which are unique for each instance, class variables are same for each instance"
   ]
  },
  {
   "cell_type": "markdown",
   "metadata": {},
   "source": [
    "## 2.2 Use Case - Amount of annual raise given to employees"
   ]
  },
  {
   "cell_type": "markdown",
   "metadata": {},
   "source": [
    "Let's first hard code annual raise to understand why class variable would be a better use case"
   ]
  },
  {
   "cell_type": "code",
   "execution_count": 1,
   "metadata": {},
   "outputs": [
    {
     "name": "stdout",
     "output_type": "stream",
     "text": [
      "50000\n",
      "52000\n"
     ]
    }
   ],
   "source": [
    "class Employee:\n",
    "    def __init__(self, first, last, pay):\n",
    "        self.first = first\n",
    "        self.last = last\n",
    "        self.pay = pay\n",
    "        self.email = first + \".\" + last + \"@company.com\"\n",
    "\n",
    "    def fullname(self):\n",
    "        return \"{} {}\".format(self.first, self.last)\n",
    "\n",
    "    def apply_raise(self):\n",
    "        # raise pay by four percent\n",
    "        self.pay = int(self.pay * 1.04)\n",
    "\n",
    "\n",
    "emp_1 = Employee(\"Corey\", \"Schafer\", 50000)\n",
    "emp_2 = Employee(\"Test\", \"User\", 60000)\n",
    "\n",
    "print(emp_1.pay)\n",
    "emp_1.apply_raise()\n",
    "print(emp_1.pay)"
   ]
  },
  {
   "cell_type": "markdown",
   "metadata": {},
   "source": [
    "## 2.3 Accessing class variables "
   ]
  },
  {
   "cell_type": "markdown",
   "metadata": {},
   "source": [
    "*Note - There are a couple of things wrong here*\n",
    "\n",
    "*1. It would be nice if we could access the raise amount by doing <code>emp_1.raise_amount</code> or since it would apply to the entire class, we should also be able to get the raise amount by doing <code>Employee.raise_amount</code>*\n",
    "*2. What if we wanted to easily update the raise amount variable without manually updating it in multiple locations*"
   ]
  },
  {
   "cell_type": "code",
   "execution_count": 2,
   "metadata": {},
   "outputs": [
    {
     "name": "stdout",
     "output_type": "stream",
     "text": [
      "50000\n",
      "52000\n"
     ]
    }
   ],
   "source": [
    "class Employee:\n",
    "\n",
    "    # create class variable\n",
    "    raise_amount = 1.04\n",
    "\n",
    "    def __init__(self, first, last, pay):\n",
    "        self.first = first\n",
    "        self.last = last\n",
    "        self.pay = pay\n",
    "        self.email = first + \".\" + last + \"@company.com\"\n",
    "\n",
    "    def fullname(self):\n",
    "        return \"{} {}\".format(self.first, self.last)\n",
    "\n",
    "    def apply_raise(self):\n",
    "        # access class variable using the instance self\n",
    "        self.pay = int(self.pay * self.raise_amount)\n",
    "\n",
    "\n",
    "emp_1 = Employee(\"Corey\", \"Schafer\", 50000)\n",
    "emp_2 = Employee(\"Test\", \"User\", 60000)\n",
    "\n",
    "print(emp_1.pay)\n",
    "emp_1.apply_raise()\n",
    "print(emp_1.pay)"
   ]
  },
  {
   "cell_type": "markdown",
   "metadata": {},
   "source": [
    "*Note - We can also access class variables using the class itself or through an instance of a class. To get a better idea of what's going on, lets run this code*"
   ]
  },
  {
   "cell_type": "code",
   "execution_count": 3,
   "metadata": {},
   "outputs": [
    {
     "name": "stdout",
     "output_type": "stream",
     "text": [
      "1.04\n",
      "1.04\n",
      "1.04\n"
     ]
    }
   ],
   "source": [
    "class Employee:\n",
    "\n",
    "    raise_amount = 1.04\n",
    "\n",
    "    def __init__(self, first, last, pay):\n",
    "        self.first = first\n",
    "        self.last = last\n",
    "        self.pay = pay\n",
    "        self.email = first + \".\" + last + \"@company.com\"\n",
    "\n",
    "    def fullname(self):\n",
    "        return \"{} {}\".format(self.first, self.last)\n",
    "\n",
    "    def apply_raise(self):\n",
    "        self.pay = int(self.pay * self.raise_amount)\n",
    "\n",
    "\n",
    "emp_1 = Employee(\"Corey\", \"Schafer\", 50000)\n",
    "emp_2 = Employee(\"Test\", \"User\", 60000)\n",
    "\n",
    "print(Employee.raise_amount)\n",
    "print(emp_1.raise_amount)\n",
    "print(emp_2.raise_amount)"
   ]
  },
  {
   "cell_type": "markdown",
   "metadata": {},
   "source": [
    "*Note - When we try to access an attribute of an instance,*\n",
    "\n",
    "* *It will first check if the instance contains that attribute*\n",
    "* *If it doesn't, it will check if the class or any of the class it inherits from contains that attribute*\n",
    "\n",
    "*To get a better idea of what's going on -*"
   ]
  },
  {
   "cell_type": "code",
   "execution_count": 4,
   "metadata": {},
   "outputs": [
    {
     "name": "stdout",
     "output_type": "stream",
     "text": [
      "{'first': 'Corey', 'last': 'Schafer', 'pay': 50000, 'email': 'Corey.Schafer@company.com'}\n"
     ]
    }
   ],
   "source": [
    "# print out the namespace of instance\n",
    "print(emp_1.__dict__)"
   ]
  },
  {
   "cell_type": "markdown",
   "metadata": {},
   "source": [
    "*Notice that there's no raise_amount variable here*"
   ]
  },
  {
   "cell_type": "code",
   "execution_count": 5,
   "metadata": {},
   "outputs": [
    {
     "name": "stdout",
     "output_type": "stream",
     "text": [
      "{'__module__': '__main__', 'raise_amount': 1.04, '__init__': <function Employee.__init__ at 0x7ff0b0183268>, 'fullname': <function Employee.fullname at 0x7ff0b01832f0>, 'apply_raise': <function Employee.apply_raise at 0x7ff0b0183378>, '__dict__': <attribute '__dict__' of 'Employee' objects>, '__weakref__': <attribute '__weakref__' of 'Employee' objects>, '__doc__': None}\n"
     ]
    }
   ],
   "source": [
    "# print out the namespace of class\n",
    "print(Employee.__dict__)"
   ]
  },
  {
   "cell_type": "markdown",
   "metadata": {},
   "source": [
    "*Notice that class does contain raise_amount variable*"
   ]
  },
  {
   "cell_type": "markdown",
   "metadata": {},
   "source": [
    "## 2.4 Setting class variables"
   ]
  },
  {
   "cell_type": "markdown",
   "metadata": {},
   "source": [
    "If we try to set raise amount using the class"
   ]
  },
  {
   "cell_type": "code",
   "execution_count": 6,
   "metadata": {},
   "outputs": [
    {
     "name": "stdout",
     "output_type": "stream",
     "text": [
      "1.05\n",
      "1.05\n",
      "1.05\n"
     ]
    }
   ],
   "source": [
    "emp_1 = Employee(\"Corey\", \"Schafer\", 50000)\n",
    "emp_2 = Employee(\"Test\", \"User\", 60000)\n",
    "\n",
    "Employee.raise_amount = 1.05\n",
    "\n",
    "print(Employee.raise_amount)\n",
    "print(emp_1.raise_amount)\n",
    "print(emp_2.raise_amount)"
   ]
  },
  {
   "cell_type": "markdown",
   "metadata": {},
   "source": [
    "This changes raise amount for the class and all of the instances.\n",
    "\n",
    "Instead, if we set raise amount using instance"
   ]
  },
  {
   "cell_type": "code",
   "execution_count": 7,
   "metadata": {},
   "outputs": [
    {
     "name": "stdout",
     "output_type": "stream",
     "text": [
      "1.05\n",
      "1.05\n",
      "1.05\n"
     ]
    }
   ],
   "source": [
    "emp_1 = Employee(\"Corey\", \"Schafer\", 50000)\n",
    "emp_2 = Employee(\"Test\", \"User\", 60000)\n",
    "\n",
    "emp_1.raise_amount = 1.05\n",
    "\n",
    "print(Employee.raise_amount)\n",
    "print(emp_1.raise_amount)\n",
    "print(emp_2.raise_amount)"
   ]
  },
  {
   "cell_type": "markdown",
   "metadata": {},
   "source": [
    "This only changed raise amount for employee 1. This is because the assignment <code>emp_1.raise_amount = 1.05</code> actually created raise_amount within the instance emp_1"
   ]
  },
  {
   "cell_type": "code",
   "execution_count": 8,
   "metadata": {},
   "outputs": [
    {
     "name": "stdout",
     "output_type": "stream",
     "text": [
      "{'first': 'Corey', 'last': 'Schafer', 'pay': 50000, 'email': 'Corey.Schafer@company.com', 'raise_amount': 1.05}\n"
     ]
    }
   ],
   "source": [
    "print(emp_1.__dict__)"
   ]
  },
  {
   "cell_type": "markdown",
   "metadata": {},
   "source": [
    "*Note that raise_amount is created within the instances' namespace.*"
   ]
  },
  {
   "cell_type": "code",
   "execution_count": 9,
   "metadata": {},
   "outputs": [
    {
     "name": "stdout",
     "output_type": "stream",
     "text": [
      "{'first': 'Test', 'last': 'User', 'pay': 60000, 'email': 'Test.User@company.com'}\n"
     ]
    }
   ],
   "source": [
    "print(emp_2.__dict__)"
   ]
  },
  {
   "cell_type": "markdown",
   "metadata": {},
   "source": [
    "*Also note that we didnt set that raise_amount on emp_2, so it still falls back on the classes' value*\n",
    "\n",
    "This is an important concept to understand, because we could get different results depending on whether we used self (which is an instance) or Employee class \n",
    "\n",
    "Using self has two benefits in this use case\n",
    "* Gives us the ability to change the amount for a single instance if we wanted to\n",
    "* Using self will allow any subclass to override that constant if they wanted\n",
    "\n",
    "Let's look at an example where it wouldn't make sense to use instance self over class. Suppose we want to keep track of how many employees we have. So the number of employees should be the same for all instances of our class"
   ]
  },
  {
   "cell_type": "code",
   "execution_count": 10,
   "metadata": {},
   "outputs": [
    {
     "name": "stdout",
     "output_type": "stream",
     "text": [
      "0\n",
      "2\n"
     ]
    }
   ],
   "source": [
    "class Employee:\n",
    "\n",
    "    # create class variable for number of employees. Note that\n",
    "    # initially number of employees is zero\n",
    "    num_of_emps = 0\n",
    "    raise_amount = 1.04\n",
    "\n",
    "    def __init__(self, first, last, pay):\n",
    "        self.first = first\n",
    "        self.last = last\n",
    "        self.pay = pay\n",
    "        self.email = first + \".\" + last + \"@company.com\"\n",
    "\n",
    "        # each time we create a new employee, we will increment\n",
    "        # the class variable by one\n",
    "        Employee.num_of_emps += 1\n",
    "\n",
    "    def fullname(self):\n",
    "        return \"{} {}\".format(self.first, self.last)\n",
    "\n",
    "    def apply_raise(self):\n",
    "        self.pay = int(self.pay * self.raise_amount)\n",
    "\n",
    "\n",
    "# We call this before we instantiate employees\n",
    "print(Employee.num_of_emps)\n",
    "\n",
    "emp_1 = Employee(\"Corey\", \"Schafer\", 50000)\n",
    "emp_2 = Employee(\"Test\", \"User\", 60000)\n",
    "\n",
    "# We call this after we instantiate employees\n",
    "print(Employee.num_of_emps)"
   ]
  },
  {
   "cell_type": "markdown",
   "metadata": {},
   "source": [
    "*Note - we keep <code>Employee.num_of_emps</code> because we wouldnt want out total number of employees to be difference for any one instance*"
   ]
  },
  {
   "cell_type": "markdown",
   "metadata": {},
   "source": [
    "---"
   ]
  }
 ],
 "metadata": {
  "kernelspec": {
   "display_name": "Python 3",
   "language": "python",
   "name": "python3"
  },
  "language_info": {
   "codemirror_mode": {
    "name": "ipython",
    "version": 3
   },
   "file_extension": ".py",
   "mimetype": "text/x-python",
   "name": "python",
   "nbconvert_exporter": "python",
   "pygments_lexer": "ipython3",
   "version": "3.7.3"
  }
 },
 "nbformat": 4,
 "nbformat_minor": 2
}
